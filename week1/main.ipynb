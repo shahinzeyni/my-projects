{
 "cells": [
  {
   "cell_type": "code",
   "execution_count": 15,
   "metadata": {},
   "outputs": [
    {
     "name": "stdout",
     "output_type": "stream",
     "text": [
      "!\"#$%&'()*+,-./:;<=>?@[\\]^_`{|}~\n",
      "abcdefghijklmnopqrstuvwxyzABCDEFGHIJKLMNOPQRSTUVWXYZ\n",
      "abcdefghijklmnopqrstuvwxyz\n",
      "ABCDEFGHIJKLMNOPQRSTUVWXYZ\n",
      "0123456789\n"
     ]
    }
   ],
   "source": [
    "\n",
    "import string\n",
    "\n",
    "print(string.punctuation)\n",
    "print(string.ascii_letters)\n",
    "print(string.ascii_lowercase)\n",
    "print(string.ascii_uppercase)\n",
    "print(string.digits)"
   ]
  },
  {
   "cell_type": "code",
   "execution_count": 16,
   "metadata": {},
   "outputs": [
    {
     "name": "stdout",
     "output_type": "stream",
     "text": [
      "a\n"
     ]
    }
   ],
   "source": [
    "import random\n",
    "def password_generator(length):\n",
    "    x = random.choice(string.ascii_letters)\n",
    "    print(x)\n",
    "    # for i in range(length)\n",
    "password_generator(5)    \n"
   ]
  },
  {
   "cell_type": "code",
   "execution_count": 17,
   "metadata": {},
   "outputs": [
    {
     "data": {
      "text/plain": [
       "'Es7%P3BG%L\\\\.W<i'"
      ]
     },
     "execution_count": 17,
     "metadata": {},
     "output_type": "execute_result"
    }
   ],
   "source": [
    "import random\n",
    "import string\n",
    "from typing import List, Optional\n",
    "\n",
    "# def add_number(num1:int=5,num2:int = 6) -> int :\n",
    "#     print(num1+num2)\n",
    "# add_number()\n",
    "\n",
    "def generate_random_password(length: int = 8, include_numbers: bool = False, include_symbols: bool = False) -> str:\n",
    "    \"\"\"\n",
    "    Generate a random password.\n",
    "    \"\"\"\n",
    "\n",
    "    if include_numbers == True and include_symbols == False:\n",
    "        characters = string.ascii_letters + string.digits\n",
    "\n",
    "    elif include_numbers == False and include_symbols == True:\n",
    "        characters = string.punctuation + string.ascii_letters\n",
    "\n",
    "    elif include_numbers == True and include_symbols == True:  \n",
    "        characters = string.punctuation + string.digits + string.ascii_letters\n",
    "        \n",
    "    else:\n",
    "        characters = string.ascii_letters\n",
    "    \n",
    "\n",
    "    return ''.join(random.choice(characters) for _ in range(length))\n",
    "\n",
    "\n",
    "\n",
    "\n",
    "generate_random_password(15,True,True)\n"
   ]
  },
  {
   "cell_type": "code",
   "execution_count": 18,
   "metadata": {},
   "outputs": [
    {
     "name": "stdout",
     "output_type": "stream",
     "text": [
      "=-^83\n",
      "[False, False, False, False, False]\n"
     ]
    }
   ],
   "source": [
    "# generate_random_password()\n",
    "password = generate_random_password(5,True,True)\n",
    "print(password)\n",
    "assert len(password) ==  5\n",
    "x = [char in string.ascii_letters for char in password]\n",
    "print(x)\n",
    "# assert any(char in string.ascii_letters for char in password)"
   ]
  },
  {
   "cell_type": "code",
   "execution_count": 19,
   "metadata": {},
   "outputs": [
    {
     "name": "stdout",
     "output_type": "stream",
     "text": [
      ".<XG6x7@Z#\n"
     ]
    }
   ],
   "source": [
    "def test_random_password_generator():\n",
    "    try:\n",
    "        password = generate_random_password(10, True, True)\n",
    "        print(password)\n",
    "        assert len(password) == 10\n",
    "        assert any(char in string.ascii_letters for char in password)\n",
    "        assert any(char in string.digits for char in password)\n",
    "    except:\n",
    "        test_random_password_generator()\n",
    "\n",
    "test_random_password_generator()\n",
    "    # all()\n",
    "    # any()\n",
    "\n",
    "    # stream lit"
   ]
  },
  {
   "cell_type": "code",
   "execution_count": 20,
   "metadata": {},
   "outputs": [
    {
     "name": "stdout",
     "output_type": "stream",
     "text": [
      "0?q'FUr.!(\n"
     ]
    }
   ],
   "source": [
    "def test_random_password_generator():\n",
    "    try:\n",
    "        password = generate_random_password(10, True, True)\n",
    "        print(password)\n",
    "        assert len(password) == 10\n",
    "        assert any(char in string.ascii_letters for char in password)\n",
    "        assert any(char in string.digits for char in password)\n",
    "    except:\n",
    "        test_random_password_generator()\n",
    "\n",
    "test_random_password_generator()\n",
    "    # all()\n",
    "    # any()\n",
    "\n",
    "    # stream lit"
   ]
  },
  {
   "cell_type": "code",
   "execution_count": 21,
   "metadata": {},
   "outputs": [
    {
     "name": "stdout",
     "output_type": "stream",
     "text": [
      "Testing Random Password Generator:\n",
      "h}\\H2f3/*$\n"
     ]
    }
   ],
   "source": [
    "print(\"Testing Random Password Generator:\")\n",
    "test_random_password_generator()\n"
   ]
  },
  {
   "cell_type": "code",
   "execution_count": 66,
   "metadata": {},
   "outputs": [
    {
     "data": {
      "text/plain": [
       "'Ali*Mmhd*Reza*Mahan'"
      ]
     },
     "execution_count": 66,
     "metadata": {},
     "output_type": "execute_result"
    }
   ],
   "source": [
    "import random \n",
    "def generate_memorable_password(\n",
    "    no_of_words: int = 4,\n",
    "    separator: str = \"-\",\n",
    "    capitalization: bool = False,\n",
    "    vocabulary: Optional[List[str]] = None\n",
    ") -> str:\n",
    "    \"\"\"\n",
    "    Generate a memorable password from a list of vocabulary words.\n",
    "    \"\"\"\n",
    "    if vocabulary is None:\n",
    "        vocabulary = ['apple', 'banana', 'cherry', 'orange']  \n",
    "\n",
    "    password_words = random.sample(vocabulary, no_of_words)\n",
    "\n",
    "\n",
    "    if capitalization:\n",
    "        password_words = [word.capitalize() for word in password_words]\n",
    "\n",
    "    return separator.join(password_words)\n",
    "generate_memorable_password(4,\"*\",True,[\"Mahan\",\"reza\",\"ali\",\"mmhd\"])"
   ]
  },
  {
   "cell_type": "code",
   "execution_count": 76,
   "metadata": {},
   "outputs": [
    {
     "name": "stdout",
     "output_type": "stream",
     "text": [
      "not valid!\n",
      "not valid!\n",
      "not valid!\n",
      "not valid!\n",
      "Reza*Mmhd*Mahan*Ali\n"
     ]
    }
   ],
   "source": [
    "\n",
    "def test_generate_memorable_password():\n",
    "    number_of_word = int(input(\"Enter a number:\"))\n",
    "    try:\n",
    "        password = generate_memorable_password(number_of_word,\"*\",True,[\"Mahan\",\"reza\",\"ali\",\"mmhd\"])\n",
    "        print(password)\n",
    "    except:\n",
    "        print(\"not valid!\") \n",
    "\n",
    "        test_generate_memorable_password()   \n",
    "\n",
    "test_generate_memorable_password()"
   ]
  },
  {
   "cell_type": "code",
   "execution_count": 23,
   "metadata": {},
   "outputs": [
    {
     "name": "stdout",
     "output_type": "stream",
     "text": [
      "['cherry', 'banana', 'apple', 'orange']\n"
     ]
    },
    {
     "data": {
      "text/plain": [
       "'cherry-banana-apple-orange'"
      ]
     },
     "execution_count": 23,
     "metadata": {},
     "output_type": "execute_result"
    }
   ],
   "source": [
    "# generate_memorable_password(4,\"-\",True,['Mohammad','Mahan','Mahdi','Ali'])\n",
    "generate_memorable_password()"
   ]
  },
  {
   "cell_type": "code",
   "execution_count": 24,
   "metadata": {},
   "outputs": [
    {
     "name": "stdout",
     "output_type": "stream",
     "text": [
      "['Ali', 'Mahdi']\n"
     ]
    }
   ],
   "source": [
    "a = ['Mohammad','Mahan','Mahdi','Ali']\n",
    "print(random.sample(a,2))"
   ]
  },
  {
   "cell_type": "code",
   "execution_count": null,
   "metadata": {},
   "outputs": [
    {
     "ename": "TypeError",
     "evalue": "'int' object is not iterable",
     "output_type": "error",
     "traceback": [
      "\u001b[1;31m---------------------------------------------------------------------------\u001b[0m",
      "\u001b[1;31mTypeError\u001b[0m                                 Traceback (most recent call last)",
      "Cell \u001b[1;32mIn[91], line 8\u001b[0m\n\u001b[0;32m      5\u001b[0m     choices_number \u001b[38;5;241m=\u001b[39m random\u001b[38;5;241m.\u001b[39mchoices(numbers,\u001b[38;5;241m2\u001b[39m)\n\u001b[0;32m      6\u001b[0m     \u001b[38;5;28mprint\u001b[39m(choices_number)\n\u001b[1;32m----> 8\u001b[0m \u001b[43mpin_password_generator\u001b[49m\u001b[43m(\u001b[49m\u001b[43m)\u001b[49m\n",
      "Cell \u001b[1;32mIn[91], line 5\u001b[0m, in \u001b[0;36mpin_password_generator\u001b[1;34m()\u001b[0m\n\u001b[0;32m      3\u001b[0m \u001b[38;5;28;01mdef\u001b[39;00m \u001b[38;5;21mpin_password_generator\u001b[39m():\n\u001b[0;32m      4\u001b[0m     numbers \u001b[38;5;241m=\u001b[39m string\u001b[38;5;241m.\u001b[39mdigits\n\u001b[1;32m----> 5\u001b[0m     choices_number \u001b[38;5;241m=\u001b[39m \u001b[43mrandom\u001b[49m\u001b[38;5;241;43m.\u001b[39;49m\u001b[43mchoices\u001b[49m\u001b[43m(\u001b[49m\u001b[43mnumbers\u001b[49m\u001b[43m,\u001b[49m\u001b[38;5;241;43m2\u001b[39;49m\u001b[43m)\u001b[49m\n\u001b[0;32m      6\u001b[0m     \u001b[38;5;28mprint\u001b[39m(choices_number)\n",
      "File \u001b[1;32mc:\\Users\\zeyni\\AppData\\Local\\Programs\\Python\\Python38\\lib\\random.py:400\u001b[0m, in \u001b[0;36mRandom.choices\u001b[1;34m(self, population, weights, cum_weights, k)\u001b[0m\n\u001b[0;32m    398\u001b[0m         n \u001b[38;5;241m+\u001b[39m\u001b[38;5;241m=\u001b[39m \u001b[38;5;241m0.0\u001b[39m    \u001b[38;5;66;03m# convert to float for a small speed improvement\u001b[39;00m\n\u001b[0;32m    399\u001b[0m         \u001b[38;5;28;01mreturn\u001b[39;00m [population[_int(random() \u001b[38;5;241m*\u001b[39m n)] \u001b[38;5;28;01mfor\u001b[39;00m i \u001b[38;5;129;01min\u001b[39;00m _repeat(\u001b[38;5;28;01mNone\u001b[39;00m, k)]\n\u001b[1;32m--> 400\u001b[0m     cum_weights \u001b[38;5;241m=\u001b[39m \u001b[38;5;28mlist\u001b[39m(\u001b[43m_accumulate\u001b[49m\u001b[43m(\u001b[49m\u001b[43mweights\u001b[49m\u001b[43m)\u001b[49m)\n\u001b[0;32m    401\u001b[0m \u001b[38;5;28;01melif\u001b[39;00m weights \u001b[38;5;129;01mis\u001b[39;00m \u001b[38;5;129;01mnot\u001b[39;00m \u001b[38;5;28;01mNone\u001b[39;00m:\n\u001b[0;32m    402\u001b[0m     \u001b[38;5;28;01mraise\u001b[39;00m \u001b[38;5;167;01mTypeError\u001b[39;00m(\u001b[38;5;124m'\u001b[39m\u001b[38;5;124mCannot specify both weights and cumulative weights\u001b[39m\u001b[38;5;124m'\u001b[39m)\n",
      "\u001b[1;31mTypeError\u001b[0m: 'int' object is not iterable"
     ]
    }
   ],
   "source": [
    "import random\n",
    "import string\n",
    "def pin_password_generator():\n",
    "    numbers = string.digits\n",
    "    # choices_number = random.choices(numbers,2)\n",
    "    print(choices_number)\n",
    "\n",
    "pin_password_generator()"
   ]
  }
 ],
 "metadata": {
  "kernelspec": {
   "display_name": "Python 3",
   "language": "python",
   "name": "python3"
  },
  "language_info": {
   "codemirror_mode": {
    "name": "ipython",
    "version": 3
   },
   "file_extension": ".py",
   "mimetype": "text/x-python",
   "name": "python",
   "nbconvert_exporter": "python",
   "pygments_lexer": "ipython3",
   "version": "3.8.0"
  }
 },
 "nbformat": 4,
 "nbformat_minor": 2
}
